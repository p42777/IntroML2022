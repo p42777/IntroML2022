{
  "nbformat": 4,
  "nbformat_minor": 0,
  "metadata": {
    "colab": {
      "provenance": [],
      "authorship_tag": "ABX9TyOmtQWCqFrm6F50C7NT4ZKr",
      "include_colab_link": true
    },
    "kernelspec": {
      "name": "python3",
      "display_name": "Python 3"
    },
    "language_info": {
      "name": "python"
    }
  },
  "cells": [
    {
      "cell_type": "markdown",
      "metadata": {
        "id": "view-in-github",
        "colab_type": "text"
      },
      "source": [
        "<a href=\"https://colab.research.google.com/github/p42777/IntroML2022/blob/main/Task3/ML22_T3.ipynb\" target=\"_parent\"><img src=\"https://colab.research.google.com/assets/colab-badge.svg\" alt=\"Open In Colab\"/></a>"
      ]
    },
    {
      "cell_type": "code",
      "execution_count": 47,
      "metadata": {
        "id": "iqwmYPZYJIre"
      },
      "outputs": [],
      "source": [
        "import numpy as np\n",
        "import pandas as pd\n",
        "import seaborn as sns\n",
        "from xgboost import *\n",
        "from sklearn.model_selection import train_test_split\n",
        "from imblearn.over_sampling import SMOTE\n",
        "from imblearn.under_sampling import TomekLinks\n",
        "from sklearn.feature_selection import RFE\n",
        "from numpy import set_printoptions\n",
        "from sklearn.feature_selection import SelectKBest\n",
        "from sklearn.feature_selection import mutual_info_classif\n",
        "try:\n",
        "    from shaphypetune import BoostSearch, BoostBoruta, BoostRFE, BoostRFA\n",
        "except:\n",
        "    !pip install --upgrade shap-hypetune\n",
        "    from shaphypetune import BoostSearch, BoostBoruta, BoostRFE, BoostRFA\n",
        "\n",
        "import warnings\n",
        "warnings.simplefilter('ignore')"
      ]
    },
    {
      "cell_type": "code",
      "source": [
        "data = pd.read_csv('train_dec08_task3.csv')\n",
        "train_data, test_data = train_test_split(data, test_size = 0.3, random_state=0)\n",
        "\n",
        "X_train = train_data.iloc[:, :14]\n",
        "y_train = train_data.iloc[:, 14]\n",
        "\n",
        "X_test = test_data.iloc[:, :14]\n",
        "y_test = test_data.iloc[:, 14]"
      ],
      "metadata": {
        "id": "9tubUVp1Jeej"
      },
      "execution_count": 58,
      "outputs": []
    },
    {
      "cell_type": "code",
      "source": [
        "# resampling due to imbalanced training data\n",
        "# over-sampling (SMOTE) + under-sampling (Tomek Links)\n",
        "smote = SMOTE()\n",
        "tomekLinks = TomekLinks()\n",
        "X_train, y_train = smote.fit_resample(X_train, y_train)\n",
        "X_train, y_train = tomekLinks.fit_resample(X_train, y_train)"
      ],
      "metadata": {
        "id": "QZQlIScFJkIz"
      },
      "execution_count": 59,
      "outputs": []
    },
    {
      "cell_type": "code",
      "source": [
        "# feature selection\n",
        "k = 5\n",
        "test = SelectKBest(mutual_info_classif, k = k)\n",
        "fit = test.fit(X_train, y_train)\n",
        "\n",
        "X_train = fit.fit_transform(X_train, y_train)\n",
        "X_test = fit.transform(X_test)"
      ],
      "metadata": {
        "id": "mPbXQGsoOm5U"
      },
      "execution_count": 60,
      "outputs": []
    },
    {
      "cell_type": "code",
      "source": [
        "xgb = XGBClassifier(n_estimators=100, max_depth=6, learning_rate=0.1, enable_categorical=True)\n",
        "# xgb = BoostRFE(xgb, min_features_to_select=1, step=1)\n",
        "xgb.fit(X_train, y_train, \n",
        "            eval_set=[(X_train, y_train)], \n",
        "            early_stopping_rounds=20) \n",
        "# xgb.fit(X_train, y_train)\n",
        "predicted = xgb.predict(X_test)\n",
        "\n",
        "print('Training Accuracy: ',xgb.score(X_train,y_train))\n",
        "print('Testing Accuracy: ',xgb.score(X_test,y_test))"
      ],
      "metadata": {
        "colab": {
          "base_uri": "https://localhost:8080/"
        },
        "id": "BIR7Yz_6JqzS",
        "outputId": "eb739655-00bb-477e-dd7a-cf3d21c560ba"
      },
      "execution_count": 65,
      "outputs": [
        {
          "output_type": "stream",
          "name": "stdout",
          "text": [
            "[0]\tvalidation_0-merror:0.219797\n",
            "Will train until validation_0-merror hasn't improved in 20 rounds.\n",
            "[1]\tvalidation_0-merror:0.215161\n",
            "[2]\tvalidation_0-merror:0.209928\n",
            "[3]\tvalidation_0-merror:0.206639\n",
            "[4]\tvalidation_0-merror:0.20948\n",
            "[5]\tvalidation_0-merror:0.206938\n",
            "[6]\tvalidation_0-merror:0.198714\n",
            "[7]\tvalidation_0-merror:0.196621\n",
            "[8]\tvalidation_0-merror:0.193929\n",
            "[9]\tvalidation_0-merror:0.195873\n",
            "[10]\tvalidation_0-merror:0.194228\n",
            "[11]\tvalidation_0-merror:0.191238\n",
            "[12]\tvalidation_0-merror:0.190042\n",
            "[13]\tvalidation_0-merror:0.188846\n",
            "[14]\tvalidation_0-merror:0.187799\n",
            "[15]\tvalidation_0-merror:0.186453\n",
            "[16]\tvalidation_0-merror:0.184958\n",
            "[17]\tvalidation_0-merror:0.184659\n",
            "[18]\tvalidation_0-merror:0.184061\n",
            "[19]\tvalidation_0-merror:0.183014\n",
            "[20]\tvalidation_0-merror:0.182416\n",
            "[21]\tvalidation_0-merror:0.18137\n",
            "[22]\tvalidation_0-merror:0.180024\n",
            "[23]\tvalidation_0-merror:0.179127\n",
            "[24]\tvalidation_0-merror:0.177632\n",
            "[25]\tvalidation_0-merror:0.177482\n",
            "[26]\tvalidation_0-merror:0.176884\n",
            "[27]\tvalidation_0-merror:0.177183\n",
            "[28]\tvalidation_0-merror:0.176884\n",
            "[29]\tvalidation_0-merror:0.177033\n",
            "[30]\tvalidation_0-merror:0.175837\n",
            "[31]\tvalidation_0-merror:0.174641\n",
            "[32]\tvalidation_0-merror:0.17494\n",
            "[33]\tvalidation_0-merror:0.173744\n",
            "[34]\tvalidation_0-merror:0.173146\n",
            "[35]\tvalidation_0-merror:0.172697\n",
            "[36]\tvalidation_0-merror:0.173146\n",
            "[37]\tvalidation_0-merror:0.17195\n",
            "[38]\tvalidation_0-merror:0.1718\n",
            "[39]\tvalidation_0-merror:0.171053\n",
            "[40]\tvalidation_0-merror:0.171501\n",
            "[41]\tvalidation_0-merror:0.171053\n",
            "[42]\tvalidation_0-merror:0.170155\n",
            "[43]\tvalidation_0-merror:0.169707\n",
            "[44]\tvalidation_0-merror:0.16881\n",
            "[45]\tvalidation_0-merror:0.168959\n",
            "[46]\tvalidation_0-merror:0.169109\n",
            "[47]\tvalidation_0-merror:0.167464\n",
            "[48]\tvalidation_0-merror:0.167614\n",
            "[49]\tvalidation_0-merror:0.167016\n",
            "[50]\tvalidation_0-merror:0.167016\n",
            "[51]\tvalidation_0-merror:0.165969\n",
            "[52]\tvalidation_0-merror:0.16567\n",
            "[53]\tvalidation_0-merror:0.165969\n",
            "[54]\tvalidation_0-merror:0.16567\n",
            "[55]\tvalidation_0-merror:0.165072\n",
            "[56]\tvalidation_0-merror:0.164025\n",
            "[57]\tvalidation_0-merror:0.163427\n",
            "[58]\tvalidation_0-merror:0.162829\n",
            "[59]\tvalidation_0-merror:0.163128\n",
            "[60]\tvalidation_0-merror:0.162679\n",
            "[61]\tvalidation_0-merror:0.16253\n",
            "[62]\tvalidation_0-merror:0.162231\n",
            "[63]\tvalidation_0-merror:0.162231\n",
            "[64]\tvalidation_0-merror:0.161633\n",
            "[65]\tvalidation_0-merror:0.161184\n",
            "[66]\tvalidation_0-merror:0.161184\n",
            "[67]\tvalidation_0-merror:0.160586\n",
            "[68]\tvalidation_0-merror:0.160736\n",
            "[69]\tvalidation_0-merror:0.160287\n",
            "[70]\tvalidation_0-merror:0.159988\n",
            "[71]\tvalidation_0-merror:0.159839\n",
            "[72]\tvalidation_0-merror:0.159539\n",
            "[73]\tvalidation_0-merror:0.158493\n",
            "[74]\tvalidation_0-merror:0.158194\n",
            "[75]\tvalidation_0-merror:0.158044\n",
            "[76]\tvalidation_0-merror:0.157895\n",
            "[77]\tvalidation_0-merror:0.157446\n",
            "[78]\tvalidation_0-merror:0.156848\n",
            "[79]\tvalidation_0-merror:0.1561\n",
            "[80]\tvalidation_0-merror:0.1561\n",
            "[81]\tvalidation_0-merror:0.155203\n",
            "[82]\tvalidation_0-merror:0.154904\n",
            "[83]\tvalidation_0-merror:0.154755\n",
            "[84]\tvalidation_0-merror:0.154456\n",
            "[85]\tvalidation_0-merror:0.153409\n",
            "[86]\tvalidation_0-merror:0.152811\n",
            "[87]\tvalidation_0-merror:0.152213\n",
            "[88]\tvalidation_0-merror:0.151465\n",
            "[89]\tvalidation_0-merror:0.151017\n",
            "[90]\tvalidation_0-merror:0.150718\n",
            "[91]\tvalidation_0-merror:0.150269\n",
            "[92]\tvalidation_0-merror:0.149821\n",
            "[93]\tvalidation_0-merror:0.148475\n",
            "[94]\tvalidation_0-merror:0.148325\n",
            "[95]\tvalidation_0-merror:0.14698\n",
            "[96]\tvalidation_0-merror:0.146681\n",
            "[97]\tvalidation_0-merror:0.145036\n",
            "[98]\tvalidation_0-merror:0.14369\n",
            "[99]\tvalidation_0-merror:0.143541\n",
            "Training Accuracy:  0.8564593301435407\n",
            "Testing Accuracy:  0.7235897435897436\n"
          ]
        }
      ]
    },
    {
      "cell_type": "code",
      "source": [
        "pred_data = pd.read_csv('test_dec08_task3_only_features.csv')\n",
        "pred_data = fit.transform(pred_data)\n",
        "pred = xgb.predict(pred_data)"
      ],
      "metadata": {
        "id": "_Fa8GbgVK8kW"
      },
      "execution_count": 66,
      "outputs": []
    },
    {
      "cell_type": "code",
      "source": [
        "df = pd.DataFrame({\n",
        "            \"Id\": list(range(1,len(pred)+1)),\n",
        "            \"Category\": pred\n",
        "        })\n",
        "df.to_csv('output.csv', index=False, header=True)"
      ],
      "metadata": {
        "id": "xaSXK9XMLIqf"
      },
      "execution_count": 67,
      "outputs": []
    }
  ]
}
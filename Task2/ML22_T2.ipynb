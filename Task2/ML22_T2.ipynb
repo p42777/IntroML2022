{
  "nbformat": 4,
  "nbformat_minor": 0,
  "metadata": {
    "colab": {
      "provenance": [],
      "authorship_tag": "ABX9TyOd1DWBgvUKdseFWGhLw8zh",
      "include_colab_link": true
    },
    "kernelspec": {
      "name": "python3",
      "display_name": "Python 3"
    },
    "language_info": {
      "name": "python"
    }
  },
  "cells": [
    {
      "cell_type": "markdown",
      "metadata": {
        "id": "view-in-github",
        "colab_type": "text"
      },
      "source": [
        "<a href=\"https://colab.research.google.com/github/p42777/IntroML2022/blob/main/Task2/ML22_T2.ipynb\" target=\"_parent\"><img src=\"https://colab.research.google.com/assets/colab-badge.svg\" alt=\"Open In Colab\"/></a>"
      ]
    },
    {
      "cell_type": "code",
      "execution_count": 6,
      "metadata": {
        "id": "J7tCMzpCz5n6"
      },
      "outputs": [],
      "source": [
        "import numpy as np\n",
        "import pandas as pd\n",
        "import seaborn as sns\n",
        "from xgboost import XGBClassifier\n",
        "from sklearn.model_selection import train_test_split\n",
        "from imblearn.over_sampling import SMOTE\n",
        "from imblearn.under_sampling import TomekLinks"
      ]
    },
    {
      "cell_type": "code",
      "source": [
        "data = pd.read_csv('train_dec04_task2.csv')\n",
        "train_data, test_data = train_test_split(data, test_size=0.25, random_state=0)\n",
        "\n",
        "X_train = train_data.iloc[:, :7]\n",
        "y_train = train_data.iloc[:, 7]\n",
        "\n",
        "X_test = test_data.iloc[:, :7]\n",
        "y_test = test_data.iloc[:, 7]"
      ],
      "metadata": {
        "id": "ko2bGqtE3ooD"
      },
      "execution_count": 7,
      "outputs": []
    },
    {
      "cell_type": "code",
      "source": [
        "# resampling due to imbalanced training data\n",
        "# over-sampling (SMOTE) + under-sampling (Tomek Links)\n",
        "smote = SMOTE()\n",
        "tomekLinks = TomekLinks()\n",
        "X_train1, y_train1 = smote.fit_resample(X_train, y_train)\n",
        "X_train_final, y_train_final = tomekLinks.fit_resample(X_train1, y_train1)"
      ],
      "metadata": {
        "id": "cozCOZTBswyl"
      },
      "execution_count": 12,
      "outputs": []
    },
    {
      "cell_type": "code",
      "source": [
        "xgb = XGBClassifier(n_estimators=100, learning_rate= 0.3, enable_categorical=True)\n",
        "xgb.fit(X_train_final, y_train_final)\n",
        "predicted = xgb.predict(X_test)\n",
        "\n",
        "print('Training Accuracy: ',xgb.score(X_train,y_train))\n",
        "print('Testing Accuracy: ',xgb.score(X_test,y_test))\n",
        "     "
      ],
      "metadata": {
        "colab": {
          "base_uri": "https://localhost:8080/"
        },
        "id": "Pkn6bNko3-O2",
        "outputId": "eb131f4b-32e7-4ef5-cc2b-e972da604764"
      },
      "execution_count": 13,
      "outputs": [
        {
          "output_type": "stream",
          "name": "stdout",
          "text": [
            "Training Accuracy:  0.9013333333333333\n",
            "Testing Accuracy:  0.8062222222222222\n"
          ]
        }
      ]
    },
    {
      "cell_type": "code",
      "source": [
        "pred_data = pd.read_csv('test_dec04_task2_only_features.csv')\n",
        "pred = xgb.predict(pred_data)"
      ],
      "metadata": {
        "id": "ZJwgd3EW4aEx"
      },
      "execution_count": 14,
      "outputs": []
    },
    {
      "cell_type": "code",
      "source": [
        "df = pd.DataFrame({\n",
        "            \"Id\": list(range(1,len(pred)+1)),\n",
        "            \"Category\": pred\n",
        "        })\n",
        "df.to_csv('output.csv', index=False, header=True)\n"
      ],
      "metadata": {
        "id": "DLeZqML14e62"
      },
      "execution_count": 15,
      "outputs": []
    }
  ]
}
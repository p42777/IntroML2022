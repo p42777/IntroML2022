{
  "nbformat": 4,
  "nbformat_minor": 0,
  "metadata": {
    "colab": {
      "provenance": [],
      "authorship_tag": "ABX9TyNnqTvp0fBEHKkycXsLesfp",
      "include_colab_link": true
    },
    "kernelspec": {
      "name": "python3",
      "display_name": "Python 3"
    },
    "language_info": {
      "name": "python"
    }
  },
  "cells": [
    {
      "cell_type": "markdown",
      "metadata": {
        "id": "view-in-github",
        "colab_type": "text"
      },
      "source": [
        "<a href=\"https://colab.research.google.com/github/p42777/IntroML2022/blob/main/ML22_T1.ipynb\" target=\"_parent\"><img src=\"https://colab.research.google.com/assets/colab-badge.svg\" alt=\"Open In Colab\"/></a>"
      ]
    },
    {
      "cell_type": "code",
      "execution_count": 9,
      "metadata": {
        "id": "F-v5zl2Xu_Gv"
      },
      "outputs": [],
      "source": [
        "import numpy as np\n",
        "import pandas as pd\n",
        "from xgboost import XGBClassifier\n",
        "from sklearn.model_selection import train_test_split"
      ]
    },
    {
      "cell_type": "code",
      "source": [
        "data = pd.read_csv('train_nov28_task1.csv')\n",
        "train_data, test_data = train_test_split(data, test_size=0.2, random_state=0)\n",
        "\n",
        "X_train = train_data.iloc[:, :5]\n",
        "y_train = train_data.iloc[:, 5]\n",
        "\n",
        "X_test = test_data.iloc[:, :5]\n",
        "y_test = test_data.iloc[:, 5]\n"
      ],
      "metadata": {
        "id": "hODGwvopwvIh"
      },
      "execution_count": 10,
      "outputs": []
    },
    {
      "cell_type": "code",
      "source": [
        "xgb = XGBClassifier(n_estimators=100, learning_rate=0.4)\n",
        "xgb.fit(X_train, y_train)\n",
        "predicted = xgb.predict(X_test)\n",
        "\n",
        "print('Training Accuracy: ',xgb.score(X_train,y_train))\n",
        "print('Testing Accuracy: ',xgb.score(X_test,y_test))"
      ],
      "metadata": {
        "colab": {
          "base_uri": "https://localhost:8080/"
        },
        "id": "HI8Wca3xw2Bq",
        "outputId": "170f6720-d3bd-4148-f23a-57146f24945d"
      },
      "execution_count": 15,
      "outputs": [
        {
          "output_type": "stream",
          "name": "stdout",
          "text": [
            "Training Accuracy:  0.9850694444444444\n",
            "Testing Accuracy:  0.9277777777777778\n"
          ]
        }
      ]
    },
    {
      "cell_type": "code",
      "source": [
        "pred_data = pd.read_csv('test_nov28_task1_only_features.csv')\n",
        "pred = xgb.predict(pred_data)"
      ],
      "metadata": {
        "id": "hS3rT4Tew2r8"
      },
      "execution_count": 16,
      "outputs": []
    },
    {
      "cell_type": "code",
      "source": [
        "df = pd.DataFrame({\n",
        "            \"Id\": list(range(1,len(pred)+1)),\n",
        "            \"Category\": pred\n",
        "        })\n",
        "df.to_csv('output.csv', index=False, header=True)\n"
      ],
      "metadata": {
        "id": "4mTS8TBhw9Pw"
      },
      "execution_count": 17,
      "outputs": []
    }
  ]
}